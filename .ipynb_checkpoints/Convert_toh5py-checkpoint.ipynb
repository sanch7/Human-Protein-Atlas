{
 "cells": [
  {
   "cell_type": "markdown",
   "metadata": {},
   "source": [
    "# Converting data to h5py for faster loading"
   ]
  },
  {
   "cell_type": "code",
   "execution_count": 1,
   "metadata": {},
   "outputs": [],
   "source": [
    "import numpy as np\n",
    "import pandas as pd\n",
    "import matplotlib.pyplot as plt\n",
    "%matplotlib inline\n",
    "\n",
    "import h5py\n",
    "from tqdm import tqdm\n",
    "import cv2"
   ]
  },
  {
   "cell_type": "code",
   "execution_count": 2,
   "metadata": {},
   "outputs": [],
   "source": [
    "train_df = pd.read_csv('./data/train.csv')\n",
    "test_df = pd.read_csv('./data/sample_submission.csv')\n",
    "channels = ['red', 'green', 'blue', 'yellow']\n",
    "hdf_path = f'/media/litemax/A036809A368072D8/Users/JALDI/Data/external-data-for-protein-atlas/hpa_data.hdf5'"
   ]
  },
  {
   "cell_type": "code",
   "execution_count": 3,
   "metadata": {},
   "outputs": [],
   "source": [
    "def load_image(id, path):\n",
    "    img = np.zeros((512, 512, 4), dtype=np.uint8)\n",
    "    for c, ch in enumerate(channels):\n",
    "        img[:,:,c] = cv2.imread('./data/{}/{}_{}.png'.format(path, id, ch), cv2.IMREAD_GRAYSCALE)\n",
    "    return img"
   ]
  },
  {
   "cell_type": "code",
   "execution_count": null,
   "metadata": {},
   "outputs": [
    {
     "name": "stderr",
     "output_type": "stream",
     "text": [
      "133it [00:02, 41.82it/s]"
     ]
    }
   ],
   "source": [
    "with h5py.File(hdf_path, mode='w') as train_hdf5:\n",
    "    train_hdf5.create_dataset(\"train\", (len(train_df), 512, 512, 4), np.uint8)\n",
    "    train_hdf5.create_dataset(\"test\", (len(test_df), 512, 512, 4), np.uint8)\n",
    "    \n",
    "    for i, id in tqdm(enumerate(train_df['Id'])):\n",
    "        img = load_image(id, 'train')\n",
    "        train_hdf5['train'][i, ...] = img\n",
    "        \n",
    "    for i, id in tqdm(enumerate(test_df['Id'])):\n",
    "        img = load_image(id, 'test')\n",
    "        train_hdf5['test'][i, ...] = img"
   ]
  },
  {
   "cell_type": "markdown",
   "metadata": {},
   "source": [
    "## Rough Benchmark"
   ]
  },
  {
   "cell_type": "code",
   "execution_count": 5,
   "metadata": {},
   "outputs": [],
   "source": [
    "randind = np.random.randint(0, len(train_df), 8)\n",
    "randind = np.sort(randind)"
   ]
  },
  {
   "cell_type": "code",
   "execution_count": 6,
   "metadata": {},
   "outputs": [],
   "source": [
    "train_hdf5 = h5py.File(hdf_path, \"r\")"
   ]
  },
  {
   "cell_type": "code",
   "execution_count": 14,
   "metadata": {},
   "outputs": [
    {
     "name": "stdout",
     "output_type": "stream",
     "text": [
      "3.29 ms ± 130 µs per loop (mean ± std. dev. of 7 runs, 100 loops each)\n"
     ]
    }
   ],
   "source": [
    "%%timeit\n",
    "# with h5py.File(hdf_path, \"r\") as train_hdf5:       # Causes 20% slowdown :(\n",
    "batch = train_hdf5['train'][randind, ...]"
   ]
  },
  {
   "cell_type": "code",
   "execution_count": 71,
   "metadata": {},
   "outputs": [
    {
     "name": "stdout",
     "output_type": "stream",
     "text": [
      "79.9 ms ± 1.07 ms per loop (mean ± std. dev. of 7 runs, 10 loops each)\n"
     ]
    }
   ],
   "source": [
    "%%timeit\n",
    "batch = np.zeros((8, 4, 512, 512), dtype=np.uint8)\n",
    "for i, ind in enumerate(randind):\n",
    "    batch[i, ...] = load_image(train_df['Id'][ind])"
   ]
  },
  {
   "cell_type": "code",
   "execution_count": 15,
   "metadata": {},
   "outputs": [],
   "source": [
    "train_hdf5.close()"
   ]
  },
  {
   "cell_type": "markdown",
   "metadata": {},
   "source": [
    "Suggestions are welcome."
   ]
  },
  {
   "cell_type": "code",
   "execution_count": 7,
   "metadata": {},
   "outputs": [],
   "source": [
    "batch = train_hdf5['train'][0, ...]"
   ]
  },
  {
   "cell_type": "code",
   "execution_count": 21,
   "metadata": {},
   "outputs": [
    {
     "data": {
      "text/plain": [
       "(512, 512, 3)"
      ]
     },
     "execution_count": 21,
     "metadata": {},
     "output_type": "execute_result"
    }
   ],
   "source": [
    "np.moveaxis(batch, 0, -1)[:,:,:3].shape"
   ]
  },
  {
   "cell_type": "code",
   "execution_count": null,
   "metadata": {},
   "outputs": [],
   "source": []
  }
 ],
 "metadata": {
  "kernelspec": {
   "display_name": "Python [conda env:pytorch]",
   "language": "python",
   "name": "conda-env-pytorch-py"
  },
  "language_info": {
   "codemirror_mode": {
    "name": "ipython",
    "version": 3
   },
   "file_extension": ".py",
   "mimetype": "text/x-python",
   "name": "python",
   "nbconvert_exporter": "python",
   "pygments_lexer": "ipython3",
   "version": "3.7.1"
  }
 },
 "nbformat": 4,
 "nbformat_minor": 2
}
