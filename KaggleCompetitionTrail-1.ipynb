{
 "cells": [
  {
   "cell_type": "code",
   "execution_count": 1,
   "metadata": {
    "colab": {
     "base_uri": "https://localhost:8080/",
     "height": 1005
    },
    "colab_type": "code",
    "executionInfo": {
     "elapsed": 174333,
     "status": "ok",
     "timestamp": 1538680596075,
     "user": {
      "displayName": "Daniel Borders",
      "photoUrl": "",
      "userId": "03898444674615005606"
     },
     "user_tz": 300
    },
    "id": "eNqJmaFsRhlS",
    "outputId": "182808d1-e679-4489-da1a-00b6a690236a"
   },
   "outputs": [
    {
     "name": "stdout",
     "output_type": "stream",
     "text": [
      "Requirement already satisfied: torch in /home/login1/anaconda2/lib/python2.7/site-packages (0.4.1)\n",
      "\u001b[33mYou are using pip version 18.0, however version 18.1 is available.\n",
      "You should consider upgrading via the 'pip install --upgrade pip' command.\u001b[0m\n",
      "Requirement already satisfied: torchvision in /home/login1/anaconda2/lib/python2.7/site-packages/torchvision-0.2.1-py2.7.egg (0.2.1)\n",
      "Requirement already satisfied: numpy in /home/login1/anaconda2/lib/python2.7/site-packages (from torchvision) (1.14.0)\n",
      "Requirement already satisfied: pillow>=4.1.1 in /home/login1/anaconda2/lib/python2.7/site-packages (from torchvision) (5.0.0)\n",
      "Requirement already satisfied: six in /home/login1/anaconda2/lib/python2.7/site-packages (from torchvision) (1.11.0)\n",
      "Requirement already satisfied: torch in /home/login1/anaconda2/lib/python2.7/site-packages (from torchvision) (0.4.1)\n",
      "\u001b[33mYou are using pip version 18.0, however version 18.1 is available.\n",
      "You should consider upgrading via the 'pip install --upgrade pip' command.\u001b[0m\n",
      "Requirement already satisfied: tqdm in /home/login1/anaconda2/lib/python2.7/site-packages (4.28.1)\n",
      "\u001b[33mYou are using pip version 18.0, however version 18.1 is available.\n",
      "You should consider upgrading via the 'pip install --upgrade pip' command.\u001b[0m\n"
     ]
    }
   ],
   "source": [
    "# Install pytorch and tqdm (if necessary)\n",
    "!pip install torch\n",
    "!pip install torchvision\n",
    "!pip install tqdm"
   ]
  },
  {
   "cell_type": "code",
   "execution_count": null,
   "metadata": {
    "colab": {
     "base_uri": "https://localhost:8080/",
     "height": 127
    },
    "colab_type": "code",
    "executionInfo": {
     "elapsed": 30890,
     "status": "ok",
     "timestamp": 1538680781417,
     "user": {
      "displayName": "Daniel Borders",
      "photoUrl": "",
      "userId": "03898444674615005606"
     },
     "user_tz": 300
    },
    "id": "wA4n2ZsKP-dt",
    "outputId": "18c01c75-5642-4179-b845-6539a31106ab"
   },
   "outputs": [],
   "source": []
  },
  {
   "cell_type": "code",
   "execution_count": 2,
   "metadata": {
    "colab": {},
    "colab_type": "code",
    "id": "V3Hu3-dhIaga"
   },
   "outputs": [],
   "source": [
    "# Handle imports\n",
    "\n",
    "import math\n",
    "import os\n",
    "import datetime\n",
    "import csv\n",
    "%matplotlib inline\n",
    "import matplotlib.pyplot as plt\n",
    "\n",
    "import torch\n",
    "import torch.nn as nn\n",
    "import torch.nn.functional as F\n",
    "import torch.optim as optim\n",
    "import torchvision\n",
    "from torchvision import datasets\n",
    "from torchvision import transforms\n",
    "from torch.autograd import Variable\n",
    "import numpy as np\n",
    "import tqdm\n",
    "\n",
    "from IPython import display"
   ]
  },
  {
   "cell_type": "code",
   "execution_count": 3,
   "metadata": {
    "colab": {},
    "colab_type": "code",
    "id": "Z7cF6oVvIesG"
   },
   "outputs": [],
   "source": [
    "# The Args object will contain all of our parameters\n",
    "# If you want to run with different arguments, create another Args object\n",
    "\n",
    "class Args(object):\n",
    "  def __init__(self, name='mnist', batch_size=64, test_batch_size=1000,\n",
    "            epochs=10, lr=0.01, optimizer='sgd', momentum=0.5,\n",
    "            seed=1, log_interval=100, dataset='mnist',\n",
    "            data_dir='Data/', model='default',\n",
    "            cuda=True):\n",
    "    self.name = name # name for this training run. Don't use spaces.\n",
    "    self.batch_size = batch_size\n",
    "    self.test_batch_size = test_batch_size # Input batch size for testing\n",
    "    self.epochs = epochs # Number of epochs to train\n",
    "    self.lr = lr # Learning rate\n",
    "    self.optimizer = optimizer # sgd/p1sgd/adam/rms_prop\n",
    "    self.momentum = momentum # SGD Momentum\n",
    "    self.seed = seed # Random seed\n",
    "    self.log_interval = log_interval # Batches to wait before logging\n",
    "                                     # detailed status. 0 = never\n",
    "    self.data_dir = data_dir\n",
    "    self.model = model # default/P2Q7DoubleChannelsNet/P2Q7HalfChannelsNet/\n",
    "                  # P2Q8BatchNormNet/P2Q9DropoutNet/P2Q10DropoutBatchnormNet/\n",
    "                  # P2Q11ExtraConvNet/P2Q12RemoveLayerNet/P2Q13UltimateNet\n",
    "    self.cuda = cuda and torch.cuda.is_available()"
   ]
  },
  {
   "cell_type": "code",
   "execution_count": 98,
   "metadata": {
    "colab": {},
    "colab_type": "code",
    "id": "ZTdCE87lIjtK"
   },
   "outputs": [],
   "source": [
    "# Define the neural network classes\n",
    "\n",
    "class Experiment1(nn.Module):\n",
    "    def __init__(self):\n",
    "        super(Experiment1, self).__init__()\n",
    "        self.conv1 = nn.Conv2d(4, 96, kernel_size=11, stride=4, padding=(5,5))\n",
    "        self.conv2 = nn.Conv2d(96, 256, kernel_size=5, padding=(2,2))\n",
    "        self.convM = nn.Conv2d(256, 256, kernel_size=3, padding=(1,1))\n",
    "        self.conv3 = nn.Conv2d(256, 384, kernel_size=3, padding=(1,1))\n",
    "        self.conv4 = nn.Conv2d(384, 384, kernel_size=3, padding=(1,1))\n",
    "        self.conv5 = nn.Conv2d(384, 256, kernel_size=3, padding=(1,1))\n",
    "        self.fc1 = nn.Linear(16384, 4096)\n",
    "        self.fc2 = nn.Linear(4096, 4096)\n",
    "        self.fc3 = nn.Linear(4096, 28)#because there are 28 possibe outputs\n",
    "\n",
    "    def forward(self, x):\n",
    "        # F is just a functional wrapper for modules from the nn package\n",
    "        # see http://pytorch.org/docs/_modules/torch/nn/functional.html\n",
    "        x = F.relu(self.conv1(x))\n",
    "        x = F.relu(F.max_pool2d(self.conv2(x), 2))\n",
    "        x = F.relu(F.max_pool2d(self.convM(x), 2))\n",
    "        x = F.relu(F.max_pool2d(self.conv3(x), 2))\n",
    "        x = F.relu(self.conv4(x))\n",
    "        x = F.relu(F.max_pool2d(self.conv5(x), 2))\n",
    "        x = x.view(-1, 16384)\n",
    "        x = F.relu(self.fc1(x))\n",
    "        x = F.dropout(x, training=self.training)\n",
    "        x = self.fc2(x)\n",
    "        return F.sigmoid(self.fc3(x))"
   ]
  },
  {
   "cell_type": "code",
   "execution_count": 96,
   "metadata": {},
   "outputs": [
    {
     "name": "stdout",
     "output_type": "stream",
     "text": [
      "Loaded: 124288\n",
      "torch.Size([10, 4, 512, 512])\n",
      "torch.Size([10, 28])\n"
     ]
    }
   ],
   "source": [
    "import random\n",
    "import cv2\n",
    "import csv\n",
    "trainList = os.listdir(\"Data/train/\")\n",
    "length = len(trainList)\n",
    "print(\"Loaded: \" + str(lenght))\n",
    "with open(\"Data/train.csv\") as csvfile:\n",
    "    csvFile = csv.reader(csvfile)\n",
    "    dictionary = {rows[0]:rows[1] for rows in csvFile}\n",
    "def generateBatch(num):\n",
    "    x_out_fin = torch.zeros((num,4,512,512))\n",
    "    y_out_fin = torch.zeros((num, 28))\n",
    "    for i in range(num):\n",
    "        rdir = random.randrange(length)\n",
    "        id, suff = trainList[rdir].split('_')\n",
    "        suffix = \"Data/train/\"\n",
    "        red = cv2.imread(suffix+id+\"_red.png\", cv2.IMREAD_GRAYSCALE)\n",
    "        yellow = cv2.imread(suffix+id+\"_yellow.png\", cv2.IMREAD_GRAYSCALE)\n",
    "        green = cv2.imread(suffix+id+\"_green.png\", cv2.IMREAD_GRAYSCALE)\n",
    "        blue = cv2.imread(suffix+id+\"_blue.png\", cv2.IMREAD_GRAYSCALE)\n",
    "        x = np.zeros((4,red.shape[0], red.shape[1]))\n",
    "        x[0,:,:]=red\n",
    "        x[1,:,:]=yellow\n",
    "        x[2,:,:]=green\n",
    "        x[3,:,:]=blue\n",
    "        x_out = torch.from_numpy(x)\n",
    "        x_out_fin[i,:,:,:]=x_out\n",
    "        if id in dictionary:\n",
    "            cats = dictionary[id].split(\" \")\n",
    "            for ndx in cats:\n",
    "                y_out_fin[i, int(ndx)] = 1\n",
    "                \n",
    "    return x_out_fin, y_out_fin\n",
    "\n",
    "a,b = generateBatch(10)\n",
    "print(a.shape)\n",
    "print(b.shape)"
   ]
  },
  {
   "cell_type": "code",
   "execution_count": 0,
   "metadata": {
    "colab": {},
    "colab_type": "code",
    "id": "l2Ejw36nIpRr"
   },
   "outputs": [],
   "source": []
  },
  {
   "cell_type": "code",
   "execution_count": 7,
   "metadata": {
    "colab": {
     "base_uri": "https://localhost:8080/",
     "height": 111
    },
    "colab_type": "code",
    "executionInfo": {
     "elapsed": 6625,
     "status": "ok",
     "timestamp": 1538680961129,
     "user": {
      "displayName": "Daniel Borders",
      "photoUrl": "",
      "userId": "03898444674615005606"
     },
     "user_tz": 300
    },
    "id": "AVGaeczNItaS",
    "outputId": "6a21053c-9523-403c-e678-0f0ce5c102e6"
   },
   "outputs": [
    {
     "name": "stdout",
     "output_type": "stream",
     "text": [
      "torch.Size([6, 28, 28])\n"
     ]
    },
    {
     "data": {
      "image/png": "[encoded data removed]",
      "text/plain": [
       "<matplotlib.figure.Figure at 0x7fdeb9ba1c18>"
      ]
     },
     "metadata": {
      "tags": []
     },
     "output_type": "display_data"
    }
   ],
   "source": [
    "# visualize some images\n",
    "\n",
    "args = Args(dataset='fashion_mnist')\n",
    "_, _, _, test_dataset, _ = prepare_dataset(args)\n",
    "images = test_dataset.test_data[:6]\n",
    "print(images.shape)\n",
    "labels = test_dataset.test_labels[:6]\n",
    "fig, axes = plt.subplots(1,6)\n",
    "for axis, img, lbl in zip(axes, images, labels):\n",
    "    axis.imshow(img)\n",
    "    axis.set_title(lbl)\n",
    "    axis.set_yticklabels([])\n",
    "    axis.set_xticklabels([])\n",
    "plt.show()\n"
   ]
  },
  {
   "cell_type": "code",
   "execution_count": 157,
   "metadata": {
    "colab": {},
    "colab_type": "code",
    "id": "tD-StYJ2I6u2"
   },
   "outputs": [],
   "source": [
    "def train(args, model, optimizer, epoch, total_minibatch_count,\n",
    "        train_losses, train_accs):\n",
    "    # Training for a full epoch\n",
    "    num_iterations = int(length/args.batch_size)\n",
    "    model.train()\n",
    "    correct_count, total_loss, total_acc = 0., 0., 0.\n",
    "    print_current = int(num_iterations/10)\n",
    "    for batch_idx in range(num_iterations):\n",
    "        \n",
    "        data, target = generateBatch(args.batch_size)\n",
    "        if args.cuda:\n",
    "            data, target = data.cuda(), target.cuda()\n",
    "        data, target = Variable(data), Variable(target)\n",
    "\n",
    "        optimizer.zero_grad()\n",
    "\n",
    "        # Forward prediction step\n",
    "        output = model(data)\n",
    "        test = torch.nn.MultiLabelSoftMarginLoss()\n",
    "        loss = test(output, target)\n",
    "        \n",
    "        if(batch_idx % print_current == 0):\n",
    "            print(str(batch_idx) + \"/\" + str(num_iterations))\n",
    "            print(loss)\n",
    "            print(\"OUTPUT\")\n",
    "            print(output[0:5])\n",
    "            print(\"TARGET\")\n",
    "            print(target[0:5])\n",
    "            print(\"^\"*70)\n",
    "\n",
    "        # Backpropagation step\n",
    "        loss.backward()\n",
    "        optimizer.step()\n",
    "\n",
    "        # The batch has ended, determine the accuracy of the predicted outputs\n",
    "        \n",
    "        #pred = output.data.max(1)[1]  \n",
    "\n",
    "        # target labels and predictions are categorical values from 0 to 9.\n",
    "        #matches = target == pred\n",
    "        #accuracy = matches.float().mean()\n",
    "        #correct_count += matches.sum()\n",
    "\n",
    "        if args.log_interval != 0 and \\\n",
    "                total_minibatch_count % args.log_interval == 0:\n",
    "\n",
    "            train_losses.append(loss.data[0])\n",
    "            #train_accs.append(accuracy.data[0])\n",
    "            \n",
    "        total_loss += loss.data\n",
    "        #total_acc += accuracy.data\n",
    "           \n",
    "\n",
    "        total_minibatch_count += 1\n",
    "\n",
    "    return total_minibatch_count"
   ]
  },
  {
   "cell_type": "code",
   "execution_count": 149,
   "metadata": {
    "colab": {},
    "colab_type": "code",
    "id": "KgCLKEHcI-bg"
   },
   "outputs": [],
   "source": [
    "def test(args, model, epoch, total_minibatch_count,\n",
    "        val_losses, val_accs):\n",
    "    # Validation Testing\n",
    "    model.eval()\n",
    "    test_loss, correct = 0., 0.\n",
    "    validation_thing = generateBatch(args.test_batch_size)\n",
    "    with torch.no_grad():\n",
    "        for current_sample in validation_thing:\n",
    "            data,target = validation_thing[current_sample]\n",
    "            if args.cuda:\n",
    "                data, target = data.cuda(), target.cuda()\n",
    "            data, target = Variable(data), Variable(target)\n",
    "            output = model(data)\n",
    "            test = torch.nn.MultiLabelSoftMarginLoss()\n",
    "            test_loss += test(output, target, reduction='sum').data  # sum up batch loss\n",
    "            #pred = output.data.max(1)[1]  # get the index of the max log-probability\n",
    "            #correct += (target == pred).float().sum()\n",
    "\n",
    "    test_loss /= len(test_loader.dataset)\n",
    "    \n",
    "    acc = correct / len(test_loader.dataset)\n",
    "\n",
    "    val_losses.append(test_loss)\n",
    "    #val_accs.append(acc)\n",
    "    \n",
    "\n",
    "    return acc"
   ]
  },
  {
   "cell_type": "code",
   "execution_count": 152,
   "metadata": {
    "colab": {},
    "colab_type": "code",
    "id": "khV-_vFSJGT8"
   },
   "outputs": [],
   "source": [
    "# Run the experiment\n",
    "def run_experiment(args):\n",
    "\n",
    "    total_minibatch_count = 0\n",
    "\n",
    "    torch.manual_seed(args.seed)\n",
    "    if args.cuda:\n",
    "        torch.cuda.manual_seed(args.seed)\n",
    "\n",
    "\n",
    "    epochs_to_run = args.epochs\n",
    "\n",
    "    # Choose model\n",
    "    # TODO add all the other models here if their parameter is specified\n",
    "    if args.model == 'default' or args.model == 'P2Q7DefaultChannelsNet':\n",
    "        model = Experiment1()\n",
    "    elif args.model in globals():\n",
    "        model = globals()[args.model]()\n",
    "    else:\n",
    "        raise ValueError('Unknown model type: ' + args.model)\n",
    "\n",
    "    if args.cuda:\n",
    "        model.cuda()\n",
    "\n",
    "    # Choose optimizer\n",
    "    if args.optimizer == 'sgd':\n",
    "        optimizer = optim.SGD(model.parameters(), lr=args.lr, momentum=args.momentum)\n",
    "    elif args.optimizer == 'adam':\n",
    "        optimizer = optim.Adam(model.parameters())\n",
    "    elif args.optimizer == 'rms_prop':\n",
    "        optimizer = optim.RMSprop(model.parameters())\n",
    "    else:\n",
    "        raise ValueError('Unsupported optimizer: ' + args.optimizer)\n",
    "\n",
    "    # Run the primary training loop, starting with validation accuracy of 0\n",
    "    val_acc = 0\n",
    "    train_losses, train_accs = [], []\n",
    "    val_losses, val_accs = [], []\n",
    "\n",
    "    for epoch in range(1, epochs_to_run + 1):\n",
    "        print(str(epoch) + \"/\" + str(epochs_to_run + 1))\n",
    "        \n",
    "        # train for 1 epoch\n",
    "        total_minibatch_count = train(args, model, optimizer,\n",
    "                                    epoch, total_minibatch_count,\n",
    "                                    train_losses, train_accs)\n",
    "        # validate progress on test dataset\n",
    "        val_acc = test(args, model, epoch, total_minibatch_count,\n",
    "                       val_losses, val_accs)\n",
    "        \n",
    "    fig, axes = plt.subplots(1,4, figsize=(13,4))\n",
    "    # plot the losses and acc\n",
    "    plt.title(args.name)\n",
    "    axes[0].plot(train_losses)\n",
    "    axes[0].set_title(\"Loss\")\n",
    "    axes[1].plot(train_accs)\n",
    "    axes[1].set_title(\"Acc\")\n",
    "    axes[2].plot(val_losses)\n",
    "    axes[2].set_title(\"Val loss\")\n",
    "    axes[3].plot(val_accs)\n",
    "    axes[3].set_title(\"Val Acc\")\n",
    "    \n",
    "    # Write to csv file\n",
    "    with open(os.path.join(run_path + 'train.csv'), 'w') as f:\n",
    "        csvw = csv.writer(f, delimiter=',')\n",
    "        for loss, acc in zip(train_losses, train_accs):\n",
    "            csvw.writerow((loss, acc))\n",
    "\n",
    "    # Predict and Test\n",
    "    images, labels = next(iter(test_loader))\n",
    "    if args.cuda:\n",
    "        images, labels = images.cuda(), labels.cuda()\n",
    "    output = model(images)\n",
    "    predicted = torch.max(output, 1)[1]\n",
    "    fig, axes = plt.subplots(1,6)\n",
    "    for i, (axis, img, lbl) in enumerate(zip(axes, images, predicted)):\n",
    "        if i > 5:\n",
    "            break\n",
    "        img = img.permute(1,2,0).squeeze()\n",
    "        axis.imshow(img)\n",
    "        axis.set_title(lbl.data)\n",
    "        axis.set_yticklabels([])\n",
    "        axis.set_xticklabels([])\n",
    "            \n",
    "    if args.dataset == 'fashion_mnist' and val_acc > 0.92 and val_acc <= 1.0:\n",
    "        print(\"Congratulations, you beat the Question 13 minimum of 92\"\n",
    "            \"with ({:.2f}%) validation accuracy!\".format(val_acc))"
   ]
  },
  {
   "cell_type": "code",
   "execution_count": null,
   "metadata": {
    "colab": {
     "base_uri": "https://localhost:8080/",
     "height": 1091
    },
    "colab_type": "code",
    "executionInfo": {
     "elapsed": 243490,
     "status": "ok",
     "timestamp": 1538685403453,
     "user": {
      "displayName": "Daniel Borders",
      "photoUrl": "",
      "userId": "03898444674615005606"
     },
     "user_tz": 300
    },
    "id": "OQ6ztrNWJKmm",
    "outputId": "6a78080e-3222-458a-f27c-411fe49e4ce3",
    "scrolled": true
   },
   "outputs": [
    {
     "name": "stdout",
     "output_type": "stream",
     "text": [
      "1/101\n",
      "0/4971\n",
      "tensor(0.9511, device='cuda:0', grad_fn=<BinaryCrossEntropyBackward>)\n",
      "OUTPUT\n",
      "tensor([[0.4838, 0.4696, 0.5149, 0.5099, 0.4913, 0.4790, 0.5029, 0.4952, 0.5012,\n",
      "         0.5079, 0.4804, 0.5009, 0.5204, 0.4842, 0.5120, 0.4978, 0.5434, 0.5246,\n",
      "         0.4917, 0.5053, 0.5163, 0.5234, 0.5514, 0.4966, 0.4944, 0.5471, 0.4969,\n",
      "         0.4984],\n",
      "        [0.4728, 0.5197, 0.4955, 0.5219, 0.5130, 0.4826, 0.4413, 0.5256, 0.4734,\n",
      "         0.4729, 0.5070, 0.5177, 0.5137, 0.5115, 0.5223, 0.4514, 0.5361, 0.5240,\n",
      "         0.5152, 0.4704, 0.5070, 0.5685, 0.5505, 0.4916, 0.5377, 0.5158, 0.5162,\n",
      "         0.4592],\n",
      "        [0.4979, 0.5176, 0.5020, 0.5084, 0.4598, 0.4730, 0.4449, 0.5302, 0.4920,\n",
      "         0.4522, 0.4897, 0.5716, 0.5211, 0.5091, 0.5390, 0.5075, 0.4830, 0.5882,\n",
      "         0.5245, 0.5026, 0.5542, 0.5396, 0.6039, 0.5347, 0.5122, 0.5425, 0.4893,\n",
      "         0.5177],\n",
      "        [0.5127, 0.4680, 0.4785, 0.5017, 0.4866, 0.4646, 0.4569, 0.5233, 0.5045,\n",
      "         0.4494, 0.4531, 0.5725, 0.5084, 0.4627, 0.4794, 0.4982, 0.5250, 0.5093,\n",
      "         0.4615, 0.5225, 0.5638, 0.4932, 0.5438, 0.5588, 0.5368, 0.5689, 0.4427,\n",
      "         0.4897],\n",
      "        [0.4972, 0.4822, 0.5108, 0.4789, 0.4847, 0.4938, 0.4802, 0.5135, 0.5037,\n",
      "         0.4896, 0.5047, 0.5345, 0.5204, 0.5145, 0.5190, 0.4782, 0.5477, 0.5446,\n",
      "         0.5085, 0.4985, 0.4898, 0.5335, 0.5505, 0.5423, 0.4747, 0.5633, 0.5069,\n",
      "         0.4926]], device='cuda:0', grad_fn=<SliceBackward>)\n",
      "TARGET\n",
      "tensor([[0., 0., 0., 0., 0., 0., 0., 0., 0., 0., 0., 0., 0., 0., 0., 0., 0., 0.,\n",
      "         0., 0., 0., 0., 0., 1., 0., 0., 0., 0.],\n",
      "        [0., 0., 0., 0., 0., 0., 0., 0., 0., 0., 0., 0., 0., 0., 0., 0., 0., 0.,\n",
      "         0., 0., 0., 0., 0., 1., 0., 0., 0., 0.],\n",
      "        [0., 0., 0., 0., 0., 0., 0., 0., 0., 0., 0., 0., 0., 0., 0., 0., 0., 0.,\n",
      "         0., 0., 1., 0., 0., 0., 0., 0., 0., 0.],\n",
      "        [1., 0., 0., 0., 0., 0., 0., 0., 0., 0., 0., 1., 0., 0., 0., 0., 0., 0.,\n",
      "         0., 0., 0., 0., 0., 0., 0., 0., 0., 0.],\n",
      "        [1., 0., 0., 0., 0., 0., 0., 0., 0., 0., 0., 0., 0., 0., 0., 0., 0., 0.,\n",
      "         0., 0., 0., 0., 0., 0., 0., 0., 0., 0.]], device='cuda:0')\n",
      "^^^^^^^^^^^^^^^^^^^^^^^^^^^^^^^^^^^^^^^^^^^^^^^^^^^^^^^^^^^^^^^^^^^^^^\n"
     ]
    },
    {
     "name": "stderr",
     "output_type": "stream",
     "text": [
      "/home/login1/anaconda2/lib/python2.7/site-packages/ipykernel_launcher.py:46: UserWarning: invalid index of a 0-dim tensor. This will be an error in PyTorch 0.5. Use tensor.item() to convert a 0-dim tensor to a Python number\n"
     ]
    }
   ],
   "source": [
    "run_experiment(Args(batch_size=25, epochs=100, optimizer='adam'))"
   ]
  },
  {
   "cell_type": "code",
   "execution_count": null,
   "metadata": {
    "colab": {
     "base_uri": "https://localhost:8080/",
     "height": 3635
    },
    "colab_type": "code",
    "executionInfo": {
     "elapsed": 2841,
     "status": "error",
     "timestamp": 1538687661053,
     "user": {
      "displayName": "Daniel Borders",
      "photoUrl": "",
      "userId": "03898444674615005606"
     },
     "user_tz": 300
    },
    "id": "2OpAU1x3Y55R",
    "outputId": "fda83c26-a6bf-4034-a2bd-210379da7db5"
   },
   "outputs": [],
   "source": []
  },
  {
   "cell_type": "code",
   "execution_count": null,
   "metadata": {
    "colab": {},
    "colab_type": "code",
    "id": "a2517egEvHoM"
   },
   "outputs": [],
   "source": []
  },
  {
   "cell_type": "code",
   "execution_count": 0,
   "metadata": {
    "colab": {},
    "colab_type": "code",
    "id": "080J-JgyuCDF"
   },
   "outputs": [],
   "source": []
  },
  {
   "cell_type": "code",
   "execution_count": 0,
   "metadata": {
    "colab": {},
    "colab_type": "code",
    "id": "tD8enmJ0V9CR"
   },
   "outputs": [],
   "source": []
  }
 ],
 "metadata": {
  "accelerator": "GPU",
  "colab": {
   "collapsed_sections": [],
   "name": "Copy of cs482_hw2.ipynb",
   "provenance": [
    {
     "file_id": "1sQFl2FlCn6RHyzIKTwq0_cInuYZKfyNG",
     "timestamp": 1538238759808
    }
   ],
   "version": "0.3.2"
  },
  "kernelspec": {
   "display_name": "Python 3",
   "language": "python",
   "name": "python3"
  },
  "language_info": {
   "codemirror_mode": {
    "name": "ipython",
    "version": 2
   },
   "file_extension": ".py",
   "mimetype": "text/x-python",
   "name": "python",
   "nbconvert_exporter": "python",
   "pygments_lexer": "ipython2",
   "version": "2.7.14"
  }
 },
 "nbformat": 4,
 "nbformat_minor": 1
}
