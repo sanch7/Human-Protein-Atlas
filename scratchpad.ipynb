{
 "cells": [
  {
   "cell_type": "code",
   "execution_count": 20,
   "metadata": {},
   "outputs": [],
   "source": [
    "%load_ext autoreload\n",
    "%autoreload 2"
   ]
  },
  {
   "cell_type": "code",
   "execution_count": 29,
   "metadata": {},
   "outputs": [],
   "source": [
    "import numpy as np\n",
    "import matplotlib.pyplot as plt\n",
    "%matplotlib inline\n",
    "\n",
    "import torch\n",
    "\n",
    "from utils.dataloader import ProteinDataset"
   ]
  },
  {
   "cell_type": "code",
   "execution_count": 30,
   "metadata": {},
   "outputs": [],
   "source": [
    "data = ProteinDataset()"
   ]
  },
  {
   "cell_type": "code",
   "execution_count": 32,
   "metadata": {},
   "outputs": [
    {
     "data": {
      "text/plain": [
       "{'image': tensor([[[0.0314, 0.0000, 0.0000,  ..., 0.0000, 0.0000, 0.0000],\n",
       "          [0.0196, 0.0000, 0.0000,  ..., 0.0353, 0.0627, 0.0000],\n",
       "          [0.0000, 0.0000, 0.0000,  ..., 0.0118, 0.0000, 0.0549],\n",
       "          ...,\n",
       "          [0.0314, 0.0157, 0.0392,  ..., 0.1176, 0.0667, 0.0000],\n",
       "          [0.0353, 0.0392, 0.0667,  ..., 0.0353, 0.0157, 0.0471],\n",
       "          [0.0000, 0.0000, 0.0078,  ..., 0.0078, 0.0000, 0.0078]],\n",
       " \n",
       "         [[0.0353, 0.0235, 0.1059,  ..., 0.0039, 0.0000, 0.0000],\n",
       "          [0.0118, 0.0784, 0.0784,  ..., 0.0000, 0.0000, 0.0000],\n",
       "          [0.2039, 0.0588, 0.1412,  ..., 0.0667, 0.0000, 0.0000],\n",
       "          ...,\n",
       "          [0.0392, 0.0000, 0.0078,  ..., 0.0157, 0.0000, 0.0078],\n",
       "          [0.0549, 0.0157, 0.0118,  ..., 0.0000, 0.0588, 0.0039],\n",
       "          [0.0039, 0.0627, 0.0039,  ..., 0.0000, 0.0353, 0.0000]],\n",
       " \n",
       "         [[0.0000, 0.0000, 0.0824,  ..., 0.0353, 0.0000, 0.0000],\n",
       "          [0.0196, 0.0275, 0.0353,  ..., 0.0000, 0.0000, 0.0000],\n",
       "          [0.0471, 0.0275, 0.0549,  ..., 0.0000, 0.0000, 0.0000],\n",
       "          ...,\n",
       "          [0.0196, 0.0078, 0.0039,  ..., 0.0000, 0.0000, 0.0000],\n",
       "          [0.0235, 0.0118, 0.0000,  ..., 0.0000, 0.0000, 0.0000],\n",
       "          [0.0118, 0.0157, 0.0078,  ..., 0.0000, 0.0000, 0.0000]],\n",
       " \n",
       "         [[0.0000, 0.0000, 0.0000,  ..., 0.0157, 0.0235, 0.0000],\n",
       "          [0.0745, 0.0392, 0.0000,  ..., 0.0078, 0.0000, 0.0196],\n",
       "          [0.0000, 0.0000, 0.0000,  ..., 0.0118, 0.0157, 0.0000],\n",
       "          ...,\n",
       "          [0.0118, 0.0667, 0.0471,  ..., 0.0157, 0.0000, 0.0000],\n",
       "          [0.0235, 0.0000, 0.0000,  ..., 0.0549, 0.0196, 0.0039],\n",
       "          [0.0000, 0.0235, 0.0118,  ..., 0.0000, 0.0039, 0.0000]]]),\n",
       " 'labels': '16 0'}"
      ]
     },
     "execution_count": 32,
     "metadata": {},
     "output_type": "execute_result"
    }
   ],
   "source": [
    "data[0]"
   ]
  },
  {
   "cell_type": "code",
   "execution_count": 31,
   "metadata": {},
   "outputs": [
    {
     "data": {
      "text/plain": [
       "'./data/train/'"
      ]
     },
     "execution_count": 31,
     "metadata": {},
     "output_type": "execute_result"
    }
   ],
   "source": [
    "data.images_path"
   ]
  },
  {
   "cell_type": "code",
   "execution_count": null,
   "metadata": {},
   "outputs": [],
   "source": []
  }
 ],
 "metadata": {
  "kernelspec": {
   "display_name": "Python [conda env:pytorch]",
   "language": "python",
   "name": "conda-env-pytorch-py"
  },
  "language_info": {
   "codemirror_mode": {
    "name": "ipython",
    "version": 3
   },
   "file_extension": ".py",
   "mimetype": "text/x-python",
   "name": "python",
   "nbconvert_exporter": "python",
   "pygments_lexer": "ipython3",
   "version": "3.7.0"
  }
 },
 "nbformat": 4,
 "nbformat_minor": 2
}
